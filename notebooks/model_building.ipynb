{
 "cells": [
  {
   "cell_type": "code",
   "execution_count": 23,
   "metadata": {},
   "outputs": [],
   "source": [
    "import pandas as pd\n",
    "from sklearn.model_selection import train_test_split\n",
    "from sklearn.linear_model import LogisticRegression\n",
    "from sklearn.tree import DecisionTreeClassifier\n",
    "from sklearn.ensemble import RandomForestClassifier\n",
    "from sklearn.metrics import accuracy_score, precision_score, recall_score, f1_score, confusion_matrix\n",
    "import numpy as np\n",
    "import pickle\n"
   ]
  },
  {
   "cell_type": "code",
   "execution_count": 24,
   "metadata": {},
   "outputs": [],
   "source": [
    "def load_data_from_pickle(obj_name):\n",
    "    '''\n",
    "    load_data_from_pickle function loads and deserializes an object from a pickle file.\n",
    "\n",
    "    Args:\n",
    "        obj_name (str): The path to the pickle file containing the serialized object. \n",
    "\n",
    "    Returns:\n",
    "        obj (pd.DataFrame): The deserialized object that was stored in the pickle file. \n",
    "\n",
    "    '''\n",
    "    with open(obj_name, 'rb') as file:\n",
    "        obj = pickle.load(file)\n",
    "    return obj"
   ]
  },
  {
   "cell_type": "code",
   "execution_count": 25,
   "metadata": {},
   "outputs": [],
   "source": [
    "X_train = load_data_from_pickle(\"/Users/sharanyasenthil/Downloads/data_processed_data_X_train.pkl\")\n",
    "y_train = load_data_from_pickle(\"/Users/sharanyasenthil/Downloads/data_processed_data_y_train.pkl\")"
   ]
  },
  {
   "cell_type": "code",
   "execution_count": 26,
   "metadata": {},
   "outputs": [],
   "source": [
    "X_test = load_data_from_pickle(\"/Users/sharanyasenthil/Downloads/data_processed_data_X_test.pkl\")\n",
    "y_test = load_data_from_pickle(\"/Users/sharanyasenthil/Downloads/data_processed_data_y_test.pkl\")"
   ]
  },
  {
   "cell_type": "code",
   "execution_count": 27,
   "metadata": {},
   "outputs": [
    {
     "name": "stdout",
     "output_type": "stream",
     "text": [
      "(585664, 18) (585664,) (193589, 18) (193589,)\n"
     ]
    }
   ],
   "source": [
    "print(X_train.shape, y_train.shape, X_test.shape, y_test.shape)"
   ]
  },
  {
   "cell_type": "code",
   "execution_count": 28,
   "metadata": {},
   "outputs": [],
   "source": [
    "X = pd.concat([X_train, X_test])\n",
    "y = pd.concat([y_train, y_test])\n",
    "X.reset_index(drop=True, inplace=True)\n",
    "y.reset_index(drop=True, inplace=True)\n",
    "train_df = pd.concat([X, y], axis=1)\n",
    "\n",
    "majority_class = train_df[train_df['SepsisLabel'] == 0]\n",
    "minority_class = train_df[train_df['SepsisLabel'] == 1]\n",
    "\n",
    "majority_class_subset = majority_class.sample(n=2*len(minority_class))\n",
    "train_df = pd.concat([majority_class_subset, minority_class])\n",
    "\n",
    "X_train = train_df.drop('SepsisLabel', axis=1)\n",
    "y_train = train_df['SepsisLabel']\n",
    "\n",
    "X = train_df.drop('SepsisLabel', axis=1)\n",
    "y = train_df['SepsisLabel']\n",
    "X_train, X_test, y_train, y_test = train_test_split(X, y, test_size=0.2)"
   ]
  },
  {
   "cell_type": "code",
   "execution_count": 12,
   "metadata": {},
   "outputs": [
    {
     "data": {
      "text/plain": [
       "((585664, 18), (193589,), (585664, 18), (585664,))"
      ]
     },
     "execution_count": 12,
     "metadata": {},
     "output_type": "execute_result"
    }
   ],
   "source": [
    "X_test.shape, y_test.shape, X_train.shape, y_train.shape"
   ]
  },
  {
   "cell_type": "code",
   "execution_count": 52,
   "metadata": {},
   "outputs": [
    {
     "name": "stdout",
     "output_type": "stream",
     "text": [
      "Request was successful\n",
      "Response: {'predictions': [1, 1, 1, 0, 0, 0, 0, 1, 0, 0]}\n"
     ]
    }
   ],
   "source": [
    "import requests\n",
    "\n",
    "def send_post_request(url, data, headers=None):\n",
    "    \"\"\"\n",
    "    Send a POST request to the specified URL.\n",
    "\n",
    "    Args:\n",
    "        url (str): The URL of the API endpoint.\n",
    "        data (dict): The data to send in the body of the POST request.\n",
    "        headers (dict, optional): Additional headers to include in the request.\n",
    "\n",
    "    Returns:\n",
    "        requests.Response: The response from the server.\n",
    "    \"\"\"\n",
    "    if headers is None:\n",
    "        headers = {\n",
    "            'Content-Type': 'application/json'\n",
    "        }\n",
    "    \n",
    "    response = requests.post(url, json=data, headers=headers)\n",
    "    \n",
    "    if response.status_code == 200:\n",
    "        print(\"Request was successful\")\n",
    "    else:\n",
    "        print(f\"Request failed with status code {response.status_code}\")\n",
    "    \n",
    "    return response\n",
    "\n",
    "\n",
    "url = \"http://localhost:8085/predict\" \n",
    "data = {\n",
    "\"data\": X_test.iloc[:10,:].values.tolist(),\n",
    "}\n",
    "\n",
    "response = send_post_request(url, data)\n",
    "print(\"Response:\", response.json())\n"
   ]
  }
 ],
 "metadata": {
  "kernelspec": {
   "display_name": "base",
   "language": "python",
   "name": "python3"
  },
  "language_info": {
   "codemirror_mode": {
    "name": "ipython",
    "version": 3
   },
   "file_extension": ".py",
   "mimetype": "text/x-python",
   "name": "python",
   "nbconvert_exporter": "python",
   "pygments_lexer": "ipython3",
   "version": "3.11.7"
  }
 },
 "nbformat": 4,
 "nbformat_minor": 2
}
