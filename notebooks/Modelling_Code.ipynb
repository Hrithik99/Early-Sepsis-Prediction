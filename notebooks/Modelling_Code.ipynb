{
 "cells": [
  {
   "cell_type": "code",
   "execution_count": 30,
   "metadata": {},
   "outputs": [
    {
     "name": "stdout",
     "output_type": "stream",
     "text": [
      "Collecting gcsfs\n",
      "  Downloading gcsfs-2024.6.0-py2.py3-none-any.whl.metadata (1.6 kB)\n",
      "Requirement already satisfied: aiohttp!=4.0.0a0,!=4.0.0a1 in c:\\users\\hrith.desktop-75k32p0\\appdata\\local\\packages\\pythonsoftwarefoundation.python.3.10_qbz5n2kfra8p0\\localcache\\local-packages\\python310\\site-packages (from gcsfs) (3.8.4)\n",
      "Requirement already satisfied: decorator>4.1.2 in c:\\users\\hrith.desktop-75k32p0\\appdata\\local\\packages\\pythonsoftwarefoundation.python.3.10_qbz5n2kfra8p0\\localcache\\local-packages\\python310\\site-packages (from gcsfs) (5.1.1)\n",
      "Collecting fsspec==2024.6.0 (from gcsfs)\n",
      "  Downloading fsspec-2024.6.0-py3-none-any.whl.metadata (11 kB)\n",
      "Requirement already satisfied: google-auth>=1.2 in c:\\users\\hrith.desktop-75k32p0\\appdata\\local\\packages\\pythonsoftwarefoundation.python.3.10_qbz5n2kfra8p0\\localcache\\local-packages\\python310\\site-packages (from gcsfs) (2.29.0)\n",
      "Requirement already satisfied: google-auth-oauthlib in c:\\users\\hrith.desktop-75k32p0\\appdata\\local\\packages\\pythonsoftwarefoundation.python.3.10_qbz5n2kfra8p0\\localcache\\local-packages\\python310\\site-packages (from gcsfs) (1.0.0)\n",
      "Collecting google-cloud-storage (from gcsfs)\n",
      "  Using cached google_cloud_storage-2.16.0-py2.py3-none-any.whl.metadata (6.1 kB)\n",
      "Requirement already satisfied: requests in c:\\users\\hrith.desktop-75k32p0\\appdata\\local\\packages\\pythonsoftwarefoundation.python.3.10_qbz5n2kfra8p0\\localcache\\local-packages\\python310\\site-packages (from gcsfs) (2.28.2)\n",
      "Requirement already satisfied: attrs>=17.3.0 in c:\\users\\hrith.desktop-75k32p0\\appdata\\local\\packages\\pythonsoftwarefoundation.python.3.10_qbz5n2kfra8p0\\localcache\\local-packages\\python310\\site-packages (from aiohttp!=4.0.0a0,!=4.0.0a1->gcsfs) (22.2.0)\n",
      "Requirement already satisfied: charset-normalizer<4.0,>=2.0 in c:\\users\\hrith.desktop-75k32p0\\appdata\\local\\packages\\pythonsoftwarefoundation.python.3.10_qbz5n2kfra8p0\\localcache\\local-packages\\python310\\site-packages (from aiohttp!=4.0.0a0,!=4.0.0a1->gcsfs) (3.1.0)\n",
      "Requirement already satisfied: multidict<7.0,>=4.5 in c:\\users\\hrith.desktop-75k32p0\\appdata\\local\\packages\\pythonsoftwarefoundation.python.3.10_qbz5n2kfra8p0\\localcache\\local-packages\\python310\\site-packages (from aiohttp!=4.0.0a0,!=4.0.0a1->gcsfs) (6.0.4)\n",
      "Requirement already satisfied: async-timeout<5.0,>=4.0.0a3 in c:\\users\\hrith.desktop-75k32p0\\appdata\\local\\packages\\pythonsoftwarefoundation.python.3.10_qbz5n2kfra8p0\\localcache\\local-packages\\python310\\site-packages (from aiohttp!=4.0.0a0,!=4.0.0a1->gcsfs) (4.0.3)\n",
      "Requirement already satisfied: yarl<2.0,>=1.0 in c:\\users\\hrith.desktop-75k32p0\\appdata\\local\\packages\\pythonsoftwarefoundation.python.3.10_qbz5n2kfra8p0\\localcache\\local-packages\\python310\\site-packages (from aiohttp!=4.0.0a0,!=4.0.0a1->gcsfs) (1.8.2)\n",
      "Requirement already satisfied: frozenlist>=1.1.1 in c:\\users\\hrith.desktop-75k32p0\\appdata\\local\\packages\\pythonsoftwarefoundation.python.3.10_qbz5n2kfra8p0\\localcache\\local-packages\\python310\\site-packages (from aiohttp!=4.0.0a0,!=4.0.0a1->gcsfs) (1.3.3)\n",
      "Requirement already satisfied: aiosignal>=1.1.2 in c:\\users\\hrith.desktop-75k32p0\\appdata\\local\\packages\\pythonsoftwarefoundation.python.3.10_qbz5n2kfra8p0\\localcache\\local-packages\\python310\\site-packages (from aiohttp!=4.0.0a0,!=4.0.0a1->gcsfs) (1.3.1)\n",
      "Requirement already satisfied: cachetools<6.0,>=2.0.0 in c:\\users\\hrith.desktop-75k32p0\\appdata\\local\\packages\\pythonsoftwarefoundation.python.3.10_qbz5n2kfra8p0\\localcache\\local-packages\\python310\\site-packages (from google-auth>=1.2->gcsfs) (5.3.0)\n",
      "Requirement already satisfied: pyasn1-modules>=0.2.1 in c:\\users\\hrith.desktop-75k32p0\\appdata\\local\\packages\\pythonsoftwarefoundation.python.3.10_qbz5n2kfra8p0\\localcache\\local-packages\\python310\\site-packages (from google-auth>=1.2->gcsfs) (0.2.8)\n",
      "Requirement already satisfied: rsa<5,>=3.1.4 in c:\\users\\hrith.desktop-75k32p0\\appdata\\local\\packages\\pythonsoftwarefoundation.python.3.10_qbz5n2kfra8p0\\localcache\\local-packages\\python310\\site-packages (from google-auth>=1.2->gcsfs) (4.9)\n",
      "Requirement already satisfied: requests-oauthlib>=0.7.0 in c:\\users\\hrith.desktop-75k32p0\\appdata\\local\\packages\\pythonsoftwarefoundation.python.3.10_qbz5n2kfra8p0\\localcache\\local-packages\\python310\\site-packages (from google-auth-oauthlib->gcsfs) (1.3.1)\n",
      "Requirement already satisfied: google-api-core<3.0.0dev,>=2.15.0 in c:\\users\\hrith.desktop-75k32p0\\appdata\\local\\packages\\pythonsoftwarefoundation.python.3.10_qbz5n2kfra8p0\\localcache\\local-packages\\python310\\site-packages (from google-cloud-storage->gcsfs) (2.19.0)\n",
      "Collecting google-cloud-core<3.0dev,>=2.3.0 (from google-cloud-storage->gcsfs)\n",
      "  Using cached google_cloud_core-2.4.1-py2.py3-none-any.whl.metadata (2.7 kB)\n",
      "Requirement already satisfied: google-resumable-media>=2.6.0 in c:\\users\\hrith.desktop-75k32p0\\appdata\\local\\packages\\pythonsoftwarefoundation.python.3.10_qbz5n2kfra8p0\\localcache\\local-packages\\python310\\site-packages (from google-cloud-storage->gcsfs) (2.7.0)\n",
      "Requirement already satisfied: google-crc32c<2.0dev,>=1.0 in c:\\users\\hrith.desktop-75k32p0\\appdata\\local\\packages\\pythonsoftwarefoundation.python.3.10_qbz5n2kfra8p0\\localcache\\local-packages\\python310\\site-packages (from google-cloud-storage->gcsfs) (1.5.0)\n",
      "Requirement already satisfied: idna<4,>=2.5 in c:\\users\\hrith.desktop-75k32p0\\appdata\\local\\packages\\pythonsoftwarefoundation.python.3.10_qbz5n2kfra8p0\\localcache\\local-packages\\python310\\site-packages (from requests->gcsfs) (3.4)\n",
      "Requirement already satisfied: urllib3<1.27,>=1.21.1 in c:\\users\\hrith.desktop-75k32p0\\appdata\\local\\packages\\pythonsoftwarefoundation.python.3.10_qbz5n2kfra8p0\\localcache\\local-packages\\python310\\site-packages (from requests->gcsfs) (1.26.15)\n",
      "Requirement already satisfied: certifi>=2017.4.17 in c:\\users\\hrith.desktop-75k32p0\\appdata\\local\\packages\\pythonsoftwarefoundation.python.3.10_qbz5n2kfra8p0\\localcache\\local-packages\\python310\\site-packages (from requests->gcsfs) (2022.12.7)\n",
      "Requirement already satisfied: googleapis-common-protos<2.0.dev0,>=1.56.2 in c:\\users\\hrith.desktop-75k32p0\\appdata\\local\\packages\\pythonsoftwarefoundation.python.3.10_qbz5n2kfra8p0\\localcache\\local-packages\\python310\\site-packages (from google-api-core<3.0.0dev,>=2.15.0->google-cloud-storage->gcsfs) (1.63.1)\n",
      "Requirement already satisfied: protobuf!=3.20.0,!=3.20.1,!=4.21.0,!=4.21.1,!=4.21.2,!=4.21.3,!=4.21.4,!=4.21.5,<5.0.0.dev0,>=3.19.5 in c:\\users\\hrith.desktop-75k32p0\\appdata\\local\\packages\\pythonsoftwarefoundation.python.3.10_qbz5n2kfra8p0\\localcache\\local-packages\\python310\\site-packages (from google-api-core<3.0.0dev,>=2.15.0->google-cloud-storage->gcsfs) (3.20.3)\n",
      "Requirement already satisfied: proto-plus<2.0.0dev,>=1.22.3 in c:\\users\\hrith.desktop-75k32p0\\appdata\\local\\packages\\pythonsoftwarefoundation.python.3.10_qbz5n2kfra8p0\\localcache\\local-packages\\python310\\site-packages (from google-api-core<3.0.0dev,>=2.15.0->google-cloud-storage->gcsfs) (1.23.0)\n",
      "Requirement already satisfied: pyasn1<0.5.0,>=0.4.6 in c:\\users\\hrith.desktop-75k32p0\\appdata\\local\\packages\\pythonsoftwarefoundation.python.3.10_qbz5n2kfra8p0\\localcache\\local-packages\\python310\\site-packages (from pyasn1-modules>=0.2.1->google-auth>=1.2->gcsfs) (0.4.8)\n",
      "Requirement already satisfied: oauthlib>=3.0.0 in c:\\users\\hrith.desktop-75k32p0\\appdata\\local\\packages\\pythonsoftwarefoundation.python.3.10_qbz5n2kfra8p0\\localcache\\local-packages\\python310\\site-packages (from requests-oauthlib>=0.7.0->google-auth-oauthlib->gcsfs) (3.2.2)\n",
      "Downloading gcsfs-2024.6.0-py2.py3-none-any.whl (34 kB)\n",
      "Downloading fsspec-2024.6.0-py3-none-any.whl (176 kB)\n",
      "   ---------------------------------------- 0.0/176.9 kB ? eta -:--:--\n",
      "   ---------------------------------------  174.1/176.9 kB 5.3 MB/s eta 0:00:01\n",
      "   ---------------------------------------- 176.9/176.9 kB 3.5 MB/s eta 0:00:00\n",
      "Using cached google_cloud_storage-2.16.0-py2.py3-none-any.whl (125 kB)\n",
      "Using cached google_cloud_core-2.4.1-py2.py3-none-any.whl (29 kB)\n",
      "Installing collected packages: fsspec, google-cloud-core, google-cloud-storage, gcsfs\n",
      "  Attempting uninstall: fsspec\n",
      "    Found existing installation: fsspec 2023.3.0\n",
      "    Uninstalling fsspec-2023.3.0:\n",
      "      Successfully uninstalled fsspec-2023.3.0\n",
      "Successfully installed fsspec-2024.6.0 gcsfs-2024.6.0 google-cloud-core-2.4.1 google-cloud-storage-2.16.0\n",
      "Note: you may need to restart the kernel to use updated packages.\n"
     ]
    },
    {
     "name": "stderr",
     "output_type": "stream",
     "text": [
      "WARNING: Ignoring invalid distribution -ip (c:\\users\\hrith.desktop-75k32p0\\appdata\\local\\packages\\pythonsoftwarefoundation.python.3.10_qbz5n2kfra8p0\\localcache\\local-packages\\python310\\site-packages)\n",
      "WARNING: Ignoring invalid distribution -ip (c:\\users\\hrith.desktop-75k32p0\\appdata\\local\\packages\\pythonsoftwarefoundation.python.3.10_qbz5n2kfra8p0\\localcache\\local-packages\\python310\\site-packages)\n",
      "WARNING: Ignoring invalid distribution -ip (c:\\users\\hrith.desktop-75k32p0\\appdata\\local\\packages\\pythonsoftwarefoundation.python.3.10_qbz5n2kfra8p0\\localcache\\local-packages\\python310\\site-packages)\n",
      "WARNING: Ignoring invalid distribution -ip (c:\\users\\hrith.desktop-75k32p0\\appdata\\local\\packages\\pythonsoftwarefoundation.python.3.10_qbz5n2kfra8p0\\localcache\\local-packages\\python310\\site-packages)\n"
     ]
    }
   ],
   "source": [
    "pip install gcsfs"
   ]
  },
  {
   "cell_type": "code",
   "execution_count": 43,
   "metadata": {},
   "outputs": [],
   "source": [
    "import gcsfs\n",
    "import pandas as pd\n",
    "import joblib\n",
    "from datetime import datetime\n",
    "from sklearn.model_selection import GridSearchCV\n",
    "from sklearn.ensemble import RandomForestClassifier\n",
    "from xgboost import XGBClassifier\n",
    "from sklearn.tree import DecisionTreeClassifier\n",
    "from sklearn.linear_model import LogisticRegression\n",
    "from sklearn.metrics import f1_score, accuracy_score, precision_score, recall_score, confusion_matrix, classification_report\n",
    "from sklearn.model_selection import StratifiedShuffleSplit\n",
    "import warnings\n",
    "\n",
    "warnings.filterwarnings(\"ignore\")"
   ]
  },
  {
   "cell_type": "code",
   "execution_count": 7,
   "metadata": {},
   "outputs": [],
   "source": [
    "import gcsfs\n",
    "import joblib\n",
    "\n",
    "def load_data_from_gcs(file_paths):\n",
    "    fs = gcsfs.GCSFileSystem()\n",
    "    \n",
    "    data = {}\n",
    "    for key, file_path in file_paths.items():\n",
    "        with fs.open(file_path, 'rb') as f:\n",
    "            data[key] = joblib.load(f)\n",
    "    \n",
    "    return data"
   ]
  },
  {
   "cell_type": "code",
   "execution_count": null,
   "metadata": {},
   "outputs": [],
   "source": []
  },
  {
   "cell_type": "code",
   "execution_count": null,
   "metadata": {},
   "outputs": [],
   "source": []
  },
  {
   "cell_type": "code",
   "execution_count": 44,
   "metadata": {},
   "outputs": [],
   "source": [
    "file_paths = {\n",
    "    'X_train': 'gs://sepsis-prediction-mlops/data/processed_data/X_train.pkl',\n",
    "    'X_test': 'gs://sepsis-prediction-mlops/data/processed_data/X_test.pkl',\n",
    "    'y_train': 'gs://sepsis-prediction-mlops/data/processed_data/y_train.pkl',\n",
    "    'y_test': 'gs://sepsis-prediction-mlops/data/processed_data/y_test.pkl'\n",
    "}\n",
    "\n",
    "data = load_data_from_gcs(file_paths)\n",
    "X_train = data['X_train']\n",
    "X_test = data['X_test']\n",
    "y_train = data['y_train']\n",
    "y_test = data['y_test']\n",
    "train_df= X_train.join(y_train)\n",
    "test_df= X_test.join(y_test)\n",
    "majority_class = train_df[train_df['SepsisLabel'] == 0]\n",
    "minority_class = train_df[train_df['SepsisLabel'] == 1]\n",
    "\n",
    "# Under Sampling\n",
    "\n",
    "majority_class_subset = majority_class.sample(n=2*len(minority_class))\n",
    "train_df = pd.concat([majority_class_subset, minority_class])\n",
    "X_train = train_df.drop('SepsisLabel', axis=1)\n",
    "y_train = train_df['SepsisLabel']\n",
    "test_rows=int(len(train_df)*0.25)\n",
    "splitter = StratifiedShuffleSplit(n_splits=1, test_size=test_rows, random_state=42)\n",
    "for train_index, test_index in splitter.split(test_df, test_df['SepsisLabel']):\n",
    "    test_df = test_df.iloc[test_index]"
   ]
  },
  {
   "cell_type": "code",
   "execution_count": null,
   "metadata": {},
   "outputs": [],
   "source": [
    "X_train['Patient_ID']"
   ]
  },
  {
   "cell_type": "code",
   "execution_count": 46,
   "metadata": {},
   "outputs": [],
   "source": [
    "X_test = test_df.drop('SepsisLabel', axis=1)\n",
    "y_test = test_df['SepsisLabel']"
   ]
  },
  {
   "cell_type": "code",
   "execution_count": 36,
   "metadata": {},
   "outputs": [],
   "source": [
    "def get_models_and_parameters():\n",
    "    models_and_parameters = {\n",
    "        'RandomForest': {\n",
    "            'model': RandomForestClassifier(),\n",
    "            'params': {\n",
    "                'n_estimators': [50, 100, 200],\n",
    "                'max_depth': [None, 10, 20],\n",
    "                'min_samples_split': [2, 5, 10]\n",
    "            }\n",
    "        },\n",
    "        'XGBoost': {\n",
    "            'model': XGBClassifier(),\n",
    "            'params': {\n",
    "                'n_estimators': [50, 100, 200],\n",
    "                'max_depth': [3, 6, 9],\n",
    "                'learning_rate': [0.01, 0.1, 0.2]\n",
    "            }\n",
    "        },\n",
    "        'DecisionTree': {\n",
    "            'model': DecisionTreeClassifier(),\n",
    "            'params': {\n",
    "                'max_depth': [None, 10, 20],\n",
    "                'min_samples_split': [2, 5, 10]\n",
    "            }\n",
    "        },\n",
    "        'LogisticRegression': {\n",
    "            'model': LogisticRegression(max_iter=200),\n",
    "            'params': {\n",
    "                'C': [0.1, 1, 10],\n",
    "                'solver': ['liblinear', 'lbfgs']\n",
    "            }\n",
    "        }\n",
    "    }\n",
    "    return models_and_parameters\n",
    "\n",
    "\n",
    "def train_and_evaluate_models(X_train, y_train, X_test, y_test):\n",
    "    models_and_parameters = get_models_and_parameters()\n",
    "    best_models = {}\n",
    "    \n",
    "    for model_name, model_info in models_and_parameters.items():\n",
    "        print(f\"Training {model_name}...\")\n",
    "        grid_search = GridSearchCV(estimator=model_info['model'], param_grid=model_info['params'], cv=5, scoring='f1')\n",
    "        grid_search.fit(X_train, y_train)\n",
    "        \n",
    "        best_model = grid_search.best_estimator_\n",
    "        best_params = grid_search.best_params_\n",
    "        \n",
    "        y_pred = best_model.predict(X_test)\n",
    "        f1 = f1_score(y_test, y_pred)\n",
    "        \n",
    "        best_models[model_name] = {\n",
    "            'model': best_model,\n",
    "            'params': best_params,\n",
    "            'f1_score': f1\n",
    "        }\n",
    "        \n",
    "        print(f\"{model_name} - Best Params: {best_params}, F1 Score: {f1}\")\n",
    "    \n",
    "    return best_models\n",
    "\n",
    "\n",
    "def get_best_model(best_models):\n",
    "    best_model_name = max(best_models, key=lambda x: best_models[x]['f1_score'])\n",
    "    best_model_info = best_models[best_model_name]\n",
    "    \n",
    "    print(f\"Best Model: {best_model_name}\")\n",
    "    print(f\"Best Params: {best_model_info['params']}\")\n",
    "    print(f\"F1 Score: {best_model_info['f1_score']}\")\n",
    "    \n",
    "    return best_model_info\n",
    "\n",
    "\n",
    "def display_classification_metrics(model, X_test, y_test):\n",
    "    # Predict the labels for the test set\n",
    "    y_pred = model.predict(X_test)\n",
    "    \n",
    "    # Calculate metrics\n",
    "    accuracy = accuracy_score(y_test, y_pred)\n",
    "    precision = precision_score(y_test, y_pred, average='weighted')\n",
    "    recall = recall_score(y_test, y_pred, average='weighted')\n",
    "    f1 = f1_score(y_test, y_pred, average='weighted')\n",
    "    conf_matrix = confusion_matrix(y_test, y_pred)\n",
    "    class_report = classification_report(y_test, y_pred)\n",
    "    \n",
    "    # Display the metrics\n",
    "    print(\"Accuracy: {:.4f}\".format(accuracy))\n",
    "    print(\"Precision: {:.4f}\".format(precision))\n",
    "    print(\"Recall: {:.4f}\".format(recall))\n",
    "    print(\"F1 Score: {:.4f}\".format(f1))\n",
    "    print(\"\\nConfusion Matrix:\\n\", conf_matrix)\n",
    "    print(\"\\nClassification Report:\\n\", class_report)\n",
    "    \n",
    "    # Return the metrics in a dictionary\n",
    "    metrics = {\n",
    "        'accuracy': accuracy,\n",
    "        'precision': precision,\n",
    "        'recall': recall,\n",
    "        'f1_score': f1,\n",
    "        'confusion_matrix': conf_matrix,\n",
    "        'classification_report': class_report\n",
    "    }\n",
    "    \n",
    "    return metrics\n",
    "\n",
    "\n",
    "def generate_model_name(model_name_prefix, bucket_name, models_directory):\n",
    "    fs = gcsfs.GCSFileSystem()\n",
    "    model_files = fs.glob(f'{bucket_name}/{models_directory}/*')\n",
    "    \n",
    "    if not model_files:\n",
    "        version = 1\n",
    "    else:\n",
    "        versions = [int(file.split('_v')[-1].split('.')[0]) for file in model_files if file.startswith(f'{bucket_name}/{models_directory}/{model_name_prefix}')]\n",
    "        version = max(versions) + 1 if versions else 1\n",
    "    \n",
    "    timestamp = datetime.now().strftime(\"%Y%m%d_%H%M%S\")\n",
    "    model_name = f\"{model_name_prefix}_{timestamp}_v{version}.pkl\"\n",
    "    \n",
    "    return f\"{bucket_name}/{models_directory}/{model_name}\"\n",
    "\n",
    "def save_model(model, file_path):\n",
    "    with open(file_path, 'wb') as f:\n",
    "        joblib.dump(model, f)\n",
    "    print(f\"Model saved to {file_path}\")"
   ]
  },
  {
   "cell_type": "code",
   "execution_count": 39,
   "metadata": {},
   "outputs": [
    {
     "data": {
      "text/plain": [
       "(35262, 18)"
      ]
     },
     "execution_count": 39,
     "metadata": {},
     "output_type": "execute_result"
    }
   ],
   "source": [
    "X_train.shape"
   ]
  },
  {
   "cell_type": "code",
   "execution_count": 40,
   "metadata": {},
   "outputs": [
    {
     "data": {
      "text/plain": [
       "(35262,)"
      ]
     },
     "execution_count": 40,
     "metadata": {},
     "output_type": "execute_result"
    }
   ],
   "source": [
    "y_train.shape"
   ]
  },
  {
   "cell_type": "code",
   "execution_count": 48,
   "metadata": {},
   "outputs": [
    {
     "name": "stdout",
     "output_type": "stream",
     "text": [
      "Training RandomForest...\n",
      "RandomForest - Best Params: {'max_depth': 10, 'min_samples_split': 10, 'n_estimators': 200}, F1 Score: 0.17718120805369128\n",
      "Training XGBoost...\n",
      "XGBoost - Best Params: {'learning_rate': 0.1, 'max_depth': 3, 'n_estimators': 100}, F1 Score: 0.15384615384615385\n",
      "Training DecisionTree...\n",
      "DecisionTree - Best Params: {'max_depth': 10, 'min_samples_split': 2}, F1 Score: 0.12195121951219512\n",
      "Training LogisticRegression...\n",
      "LogisticRegression - Best Params: {'C': 0.1, 'solver': 'lbfgs'}, F1 Score: 0.14883720930232555\n",
      "Best Model: RandomForest\n",
      "Best Params: {'max_depth': 10, 'min_samples_split': 10, 'n_estimators': 200}\n",
      "F1 Score: 0.17718120805369128\n",
      "Accuracy: 0.9305\n",
      "Precision: 0.9695\n",
      "Recall: 0.9305\n",
      "F1 Score: 0.9481\n",
      "\n",
      "Confusion Matrix:\n",
      " [[8136  504]\n",
      " [ 109   66]]\n",
      "\n",
      "Classification Report:\n",
      "               precision    recall  f1-score   support\n",
      "\n",
      "           0       0.99      0.94      0.96      8640\n",
      "           1       0.12      0.38      0.18       175\n",
      "\n",
      "    accuracy                           0.93      8815\n",
      "   macro avg       0.55      0.66      0.57      8815\n",
      "weighted avg       0.97      0.93      0.95      8815\n",
      "\n"
     ]
    }
   ],
   "source": [
    "# Train and evaluate models\n",
    "best_models = train_and_evaluate_models(X_train, y_train, X_test, y_test)\n",
    "\n",
    "# Get the best model\n",
    "best_model_info = get_best_model(best_models)\n",
    "best_model = best_model_info['model']\n",
    "model_name_prefix = list(best_models.keys())[list(best_models.values()).index(best_model_info)]\n",
    "best_model_metrics = display_classification_metrics(best_model, X_test, y_test)\n"
   ]
  },
  {
   "cell_type": "code",
   "execution_count": 29,
   "metadata": {},
   "outputs": [],
   "source": [
    "minority_class = y_train[y_train== 1]"
   ]
  },
  {
   "cell_type": "code",
   "execution_count": 47,
   "metadata": {},
   "outputs": [
    {
     "data": {
      "text/plain": [
       "8815"
      ]
     },
     "execution_count": 47,
     "metadata": {},
     "output_type": "execute_result"
    }
   ],
   "source": [
    "len(X_test)"
   ]
  },
  {
   "cell_type": "code",
   "execution_count": 27,
   "metadata": {},
   "outputs": [
    {
     "data": {
      "text/plain": [
       "Index(['HR', 'O2Sat', 'Temp', 'MAP', 'Resp', 'BUN', 'Chloride', 'Creatinine',\n",
       "       'Glucose', 'Hct', 'Hgb', 'WBC', 'Platelets', 'Age', 'HospAdmTime',\n",
       "       'ICULOS', 'Female', 'Male'],\n",
       "      dtype='object')"
      ]
     },
     "execution_count": 27,
     "metadata": {},
     "output_type": "execute_result"
    }
   ],
   "source": [
    "X_train.columns"
   ]
  },
  {
   "cell_type": "code",
   "execution_count": 21,
   "metadata": {},
   "outputs": [
    {
     "data": {
      "text/plain": [
       "335655"
      ]
     },
     "execution_count": 21,
     "metadata": {},
     "output_type": "execute_result"
    }
   ],
   "source": [
    "sum(X_train[1])"
   ]
  },
  {
   "cell_type": "code",
   "execution_count": null,
   "metadata": {},
   "outputs": [],
   "source": [
    "bucket_name = 'gs://sepsis-prediction-mlops'\n",
    "models_directory = 'artifacts/models'\n",
    "model_name = generate_model_name(model_name_prefix, bucket_name, models_directory)\n",
    "save_model(best_model, model_name)"
   ]
  }
 ],
 "metadata": {
  "kernelspec": {
   "display_name": "Python 3",
   "language": "python",
   "name": "python3"
  },
  "language_info": {
   "codemirror_mode": {
    "name": "ipython",
    "version": 3
   },
   "file_extension": ".py",
   "mimetype": "text/x-python",
   "name": "python",
   "nbconvert_exporter": "python",
   "pygments_lexer": "ipython3",
   "version": "3.10.11"
  }
 },
 "nbformat": 4,
 "nbformat_minor": 2
}
